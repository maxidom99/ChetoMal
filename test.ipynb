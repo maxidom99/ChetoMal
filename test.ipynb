{
 "cells": [
  {
   "cell_type": "code",
   "execution_count": 4,
   "metadata": {},
   "outputs": [
    {
     "name": "stdout",
     "output_type": "stream",
     "text": [
      "Para el id: 0, esta el siguiente nombre: LUCIO\n",
      "Para el id: 1, esta el siguiente nombre: MAXI\n",
      "Para el id: 2, esta el siguiente nombre: ZETA\n"
     ]
    }
   ],
   "source": [
    "#len(\"HOLA\")\n",
    "\n",
    "lista = [\"LUCIO\", \"MAXI\", \"ZETA\"]\n",
    "\n",
    "for id, e in enumerate(lista):\n",
    "    print(f'Para el id: {id}, esta el siguiente nombre: {e}')"
   ]
  }
 ],
 "metadata": {
  "kernelspec": {
   "display_name": "base",
   "language": "python",
   "name": "python3"
  },
  "language_info": {
   "codemirror_mode": {
    "name": "ipython",
    "version": 3
   },
   "file_extension": ".py",
   "mimetype": "text/x-python",
   "name": "python",
   "nbconvert_exporter": "python",
   "pygments_lexer": "ipython3",
   "version": "3.11.7"
  }
 },
 "nbformat": 4,
 "nbformat_minor": 2
}
